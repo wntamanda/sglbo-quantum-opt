{
 "cells": [
  {
   "cell_type": "code",
   "execution_count": null,
   "id": "d9eb12b4-8588-430e-bd74-f6a784dedb4c",
   "metadata": {},
   "outputs": [],
   "source": [
    "import importlib, qcbo.models.pl_qnn as pl_qnn, qcbo.datasets.iris_pl as iris_pl\n",
    "importlib.reload(pl_qnn); importlib.reload(iris_pl)\n",
    "\n",
    "from qcbo.api import run_experiment\n",
    "from qcbo.plotting.quick import plot_grid\n",
    "\n",
    "# PennyLane\n",
    "results_pl, meta_pl = run_experiment(dataset=\"iris\", backend=\"pennylane\",\n",
    "                                     optimizers=[\"sglbo\",\"spsa\"], profile=\"FAST\",\n",
    "                                     noise=\"medium\", seed=42)\n",
    "plot_grid(results_pl, meta_pl, title=\"PennyLane (SGLBO vs SPSA)\")\n",
    "plot_grid(results_pl, meta_pl, normalized=True, title=\"PennyLane (normalized)\")\n",
    "\n",
    "# Qiskit\n",
    "results_q, meta_q = run_experiment(dataset=\"iris\", backend=\"qiskit\",\n",
    "                                   optimizers=[\"sglbo\",\"spsa\"], profile=\"FAST\",\n",
    "                                   noise=\"medium\", seed=42)\n",
    "plot_grid(results_q, meta_q, title=\"Qiskit (SGLBO vs SPSA)\")\n",
    "plot_grid(results_q, meta_q, normalized=True, title=\"Qiskit (normalized)\")"
   ]
  }
 ],
 "metadata": {
  "kernelspec": {
   "display_name": "Python (qcbo)",
   "language": "python",
   "name": "qcbo"
  },
  "language_info": {
   "codemirror_mode": {
    "name": "ipython",
    "version": 3
   },
   "file_extension": ".py",
   "mimetype": "text/x-python",
   "name": "python",
   "nbconvert_exporter": "python",
   "pygments_lexer": "ipython3",
   "version": "3.11.13"
  }
 },
 "nbformat": 4,
 "nbformat_minor": 5
}
